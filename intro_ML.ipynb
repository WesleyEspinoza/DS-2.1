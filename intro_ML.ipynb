{
 "cells": [
  {
   "cell_type": "markdown",
   "metadata": {},
   "source": [
    "# intro_ML"
   ]
  },
  {
   "cell_type": "markdown",
   "metadata": {},
   "source": [
    "## Activity: A two dimesional array (Matrix) X is given, write a function that:\n",
    "* Subtract the minimun element of each column from all the elements of that column\n",
    "* Then devide the result of the rage value for each column"
   ]
  },
  {
   "cell_type": "code",
   "execution_count": 38,
   "metadata": {},
   "outputs": [
    {
     "name": "stdout",
     "output_type": "stream",
     "text": [
      "[[0.0, 0.0], [1.0, 1.0]]\n"
     ]
    }
   ],
   "source": [
    "def matrix_function(matrix):\n",
    "    \n",
    "    colIndex = 0\n",
    "    recordFound = True\n",
    "    arr = []\n",
    "    min_max_arr = []\n",
    "    # support for uneven matrix.\n",
    "    while recordFound:\n",
    "        recordFound = False\n",
    "        sub_arr = []\n",
    "        \n",
    "        # Goes through each vertex of the matrix\n",
    "        for vertex in range(len(matrix)):\n",
    "            rowArray = matrix[vertex]\n",
    "            if(colIndex < len(rowArray)):\n",
    "                sub_arr.append(rowArray[colIndex])\n",
    "                recordFound = True\n",
    "        colIndex+=1\n",
    "        \n",
    "        # if the sub array is not None get the min and max and store i\n",
    "        if sub_arr:\n",
    "            min_val = min(sub_arr)\n",
    "            max_val = max(sub_arr)\n",
    "            min_max_arr.append((min_val, max_val))\n",
    "    transform = []\n",
    "    for vertex in matrix:\n",
    "        curr_arr = []\n",
    "        for i in range(0, len(vertex)):\n",
    "            curr_min, curr_max = min_max_arr[i]\n",
    "            transformed_val = (vertex[i] - curr_min) // (curr_max - curr_min)\n",
    "            curr_arr.append(transformed_val)\n",
    "        transform.append(curr_arr)\n",
    "    print(transform)\n",
    "matrix_function([[1000.0, 2.0], [1500.0, 3.0]])\n",
    "            "
   ]
  },
  {
   "cell_type": "code",
   "execution_count": 1,
   "metadata": {},
   "outputs": [
    {
     "name": "stdout",
     "output_type": "stream",
     "text": [
      "[[0. 0.]\n",
      " [1. 1.]]\n"
     ]
    }
   ],
   "source": [
    "from sklearn import preprocessing \n",
    "\n",
    "min_max_scaler = preprocessing.MinMaxScaler()\n",
    "\n",
    "X_min_max = min_max_scaler.fit_transform([[1000, 2], [1500, 3]])\n",
    "\n",
    "print(X_min_max)"
   ]
  },
  {
   "cell_type": "markdown",
   "metadata": {},
   "source": [
    "# Activity: A two dimensional array (Matrix) X is given, write a function that:\n",
    "* Subtract the mean element of each column from all the elements of that column\n",
    "\n",
    "* Then devide the result to the standard deviation of value for each column"
   ]
  },
  {
   "cell_type": "code",
   "execution_count": 39,
   "metadata": {},
   "outputs": [
    {
     "name": "stdout",
     "output_type": "stream",
     "text": [
      "[[0.0, 0.0], [1.0, 1.0]]\n"
     ]
    }
   ],
   "source": [
    "\n",
    "def matrix_function2(matrix):\n",
    "    \n",
    "    colIndex = 0\n",
    "    recordFound = True\n",
    "    arr = []\n",
    "    min_max_arr = []\n",
    "    # support for uneven matrix.\n",
    "    while recordFound:\n",
    "        recordFound = False\n",
    "        sub_arr = []\n",
    "        \n",
    "        # Goes through each vertex of the matrix\n",
    "        for vertex in range(len(matrix)):\n",
    "            rowArray = matrix[vertex]\n",
    "            if(colIndex < len(rowArray)):\n",
    "                sub_arr.append(rowArray[colIndex])\n",
    "                recordFound = True\n",
    "        colIndex+=1\n",
    "        \n",
    "        # if the sub array is not None get the min and max and store i\n",
    "        if sub_arr:\n",
    "            min_val = min(sub_arr)\n",
    "            max_val = max(sub_arr)\n",
    "            min_max_arr.append((min_val, max_val))\n",
    "    transform = []\n",
    "    for vertex in matrix:\n",
    "        curr_arr = []\n",
    "        for i in range(0, len(vertex)):\n",
    "            curr_min, curr_max = min_max_arr[i]\n",
    "            transformed_val = (vertex[i] - curr_min) // (curr_max - curr_min)\n",
    "            curr_arr.append(transformed_val)\n",
    "        transform.append(curr_arr)\n",
    "    print(transform)\n",
    "matrix_function2([[1000.0, 2.0], [1500.0, 3.0]])"
   ]
  },
  {
   "cell_type": "code",
   "execution_count": 32,
   "metadata": {},
   "outputs": [
    {
     "name": "stdout",
     "output_type": "stream",
     "text": [
      "[[-1. -1.]\n",
      " [ 1.  1.]]\n"
     ]
    }
   ],
   "source": [
    "import numpy as np\n",
    "X_train = np.array([[1000.0, 2.0], [1500.0, 3.0]])\n",
    "standard_scaler = preprocessing.StandardScaler()\n",
    "X_ss = standard_scaler.fit_transform(X_train)\n",
    "print(X_ss)"
   ]
  },
  {
   "cell_type": "code",
   "execution_count": null,
   "metadata": {},
   "outputs": [],
   "source": []
  }
 ],
 "metadata": {
  "kernelspec": {
   "display_name": "Python 3",
   "language": "python",
   "name": "python3"
  },
  "language_info": {
   "codemirror_mode": {
    "name": "ipython",
    "version": 3
   },
   "file_extension": ".py",
   "mimetype": "text/x-python",
   "name": "python",
   "nbconvert_exporter": "python",
   "pygments_lexer": "ipython3",
   "version": "3.7.3"
  }
 },
 "nbformat": 4,
 "nbformat_minor": 2
}
